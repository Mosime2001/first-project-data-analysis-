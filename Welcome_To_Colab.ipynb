{
  "cells": [
    {
      "cell_type": "markdown",
      "metadata": {
        "id": "view-in-github",
        "colab_type": "text"
      },
      "source": [
        "<a href=\"https://colab.research.google.com/github/Mosime2001/first-project-data-analysis-/blob/main/Welcome_To_Colab.ipynb\" target=\"_parent\"><img src=\"https://colab.research.google.com/assets/colab-badge.svg\" alt=\"Open In Colab\"/></a>"
      ]
    },
    {
      "cell_type": "code",
      "source": [
        "#import pandas library and give it alias\n",
        "import pandas as pd\n",
        "#create dataFrame\n",
        "df = pd.read_excel(\"P_Data.xlsx\")\n",
        "#explore the head of data\n",
        "print(df.head())"
      ],
      "metadata": {
        "id": "-rRKH9PWYuoG",
        "outputId": "c47f5256-9b6b-4aed-81b4-85bdde99e0b0",
        "colab": {
          "base_uri": "https://localhost:8080/"
        }
      },
      "execution_count": 9,
      "outputs": [
        {
          "output_type": "stream",
          "name": "stdout",
          "text": [
            "   Time Time Code Counterpart-Area Name Counterpart-Area Code Country Name  \\\n",
            "0  2022    YR2022           Afghanistan                   625  Afghanistan   \n",
            "1  2022    YR2022           Afghanistan                   625      Albania   \n",
            "2  2022    YR2022           Afghanistan                   625      Algeria   \n",
            "3  2022    YR2022           Afghanistan                   625       Angola   \n",
            "4  2022    YR2022           Afghanistan                   625    Argentina   \n",
            "\n",
            "  Country Code  \\\n",
            "0          AFG   \n",
            "1          ALB   \n",
            "2          DZA   \n",
            "3          AGO   \n",
            "4          ARG   \n",
            "\n",
            "  External debt stocks, long-term (DOD, current US$) [DT.DOD.DLXF.CD]  \n",
            "0                                                 ..                   \n",
            "1                                                 ..                   \n",
            "2                                                 ..                   \n",
            "3                                                 ..                   \n",
            "4                                                 ..                   \n"
          ]
        }
      ]
    },
    {
      "cell_type": "code",
      "source": [
        "#exploring data at the bottom\n",
        "print(df.tail())"
      ],
      "metadata": {
        "id": "i_DmSGoC5Evo",
        "outputId": "b7b76a97-8f3d-4516-8917-92d16955bdcc",
        "colab": {
          "base_uri": "https://localhost:8080/"
        }
      },
      "execution_count": 16,
      "outputs": [
        {
          "output_type": "stream",
          "name": "stdout",
          "text": [
            "                                                     Time Time Code  \\\n",
            "404680                                                NaN       NaN   \n",
            "404681                                                NaN       NaN   \n",
            "404682                                                NaN       NaN   \n",
            "404683  Data from database: International Debt Statistics       NaN   \n",
            "404684                           Last Updated: 12/03/2024       NaN   \n",
            "\n",
            "       Counterpart-Area Name Counterpart-Area Code Country Name Country Code  \\\n",
            "404680                   NaN                   NaN          NaN          NaN   \n",
            "404681                   NaN                   NaN          NaN          NaN   \n",
            "404682                   NaN                   NaN          NaN          NaN   \n",
            "404683                   NaN                   NaN          NaN          NaN   \n",
            "404684                   NaN                   NaN          NaN          NaN   \n",
            "\n",
            "       External debt stocks, long-term (DOD, current US$) [DT.DOD.DLXF.CD]  \n",
            "404680                                                NaN                   \n",
            "404681                                                NaN                   \n",
            "404682                                                NaN                   \n",
            "404683                                                NaN                   \n",
            "404684                                                NaN                   \n"
          ]
        }
      ]
    },
    {
      "cell_type": "code",
      "source": [
        "#exploring the data in to details\n",
        "print(df.info())"
      ],
      "metadata": {
        "id": "3xuN03Fe6akg",
        "outputId": "9599e4c5-07b5-4c30-8711-749025a5fcec",
        "colab": {
          "base_uri": "https://localhost:8080/"
        }
      },
      "execution_count": 15,
      "outputs": [
        {
          "output_type": "stream",
          "name": "stdout",
          "text": [
            "<class 'pandas.core.frame.DataFrame'>\n",
            "RangeIndex: 404685 entries, 0 to 404684\n",
            "Data columns (total 7 columns):\n",
            " #   Column                                                               Non-Null Count   Dtype \n",
            "---  ------                                                               --------------   ----- \n",
            " 0   Time                                                                 404682 non-null  object\n",
            " 1   Time Code                                                            404680 non-null  object\n",
            " 2   Counterpart-Area Name                                                404680 non-null  object\n",
            " 3   Counterpart-Area Code                                                404680 non-null  object\n",
            " 4   Country Name                                                         404680 non-null  object\n",
            " 5   Country Code                                                         404680 non-null  object\n",
            " 6   External debt stocks, long-term (DOD, current US$) [DT.DOD.DLXF.CD]  404680 non-null  object\n",
            "dtypes: object(7)\n",
            "memory usage: 21.6+ MB\n",
            "None\n"
          ]
        }
      ]
    },
    {
      "cell_type": "code",
      "source": [
        "#exploring data description\n",
        "print(df.describe())"
      ],
      "metadata": {
        "id": "yJXRenCj7Ozm",
        "outputId": "f9e838ea-7dc4-46da-b172-b9d055d84795",
        "colab": {
          "base_uri": "https://localhost:8080/"
        }
      },
      "execution_count": 14,
      "outputs": [
        {
          "output_type": "stream",
          "name": "stdout",
          "text": [
            "          Time Time Code Counterpart-Area Name Counterpart-Area Code  \\\n",
            "count   404682    404680                404680                404680   \n",
            "unique      12        10                   302                   302   \n",
            "top       2022    YR2022              Zimbabwe                   265   \n",
            "freq     40468     40468                  1340                  1340   \n",
            "\n",
            "       Country Name Country Code  \\\n",
            "count        404680       404680   \n",
            "unique          134          134   \n",
            "top     Afghanistan          AFG   \n",
            "freq           3020         3020   \n",
            "\n",
            "       External debt stocks, long-term (DOD, current US$) [DT.DOD.DLXF.CD]  \n",
            "count                                              404680                   \n",
            "unique                                               6696                   \n",
            "top                                                    ..                   \n",
            "freq                                               396396                   \n"
          ]
        }
      ]
    },
    {
      "cell_type": "code",
      "source": [
        "#define data shape\n",
        "print(df.shape)"
      ],
      "metadata": {
        "id": "gayCDlsY9kQ5",
        "outputId": "34957e5d-5a72-45b3-dd40-9e44e7dc300a",
        "colab": {
          "base_uri": "https://localhost:8080/"
        }
      },
      "execution_count": 22,
      "outputs": [
        {
          "output_type": "stream",
          "name": "stdout",
          "text": [
            "(404685, 7)\n"
          ]
        }
      ]
    },
    {
      "cell_type": "code",
      "source": [
        "#define datatypes\n",
        "print(df.dtypes)"
      ],
      "metadata": {
        "id": "Q-XT4Dng9uOl",
        "outputId": "c4ae5c1f-29bc-4b59-a9b2-e2333b71b5f7",
        "colab": {
          "base_uri": "https://localhost:8080/"
        }
      },
      "execution_count": 23,
      "outputs": [
        {
          "output_type": "stream",
          "name": "stdout",
          "text": [
            "Time                                                                   object\n",
            "Time Code                                                              object\n",
            "Counterpart-Area Name                                                  object\n",
            "Counterpart-Area Code                                                  object\n",
            "Country Name                                                           object\n",
            "Country Code                                                           object\n",
            "External debt stocks, long-term (DOD, current US$) [DT.DOD.DLXF.CD]    object\n",
            "dtype: object\n"
          ]
        }
      ]
    }
  ],
  "metadata": {
    "colab": {
      "name": "Welcome To Colab",
      "provenance": [],
      "include_colab_link": true
    },
    "kernelspec": {
      "display_name": "Python 3",
      "name": "python3"
    }
  },
  "nbformat": 4,
  "nbformat_minor": 0
}